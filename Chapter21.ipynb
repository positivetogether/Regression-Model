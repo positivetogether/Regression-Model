{
 "cells": [
  {
   "cell_type": "code",
   "execution_count": 2,
   "metadata": {},
   "outputs": [],
   "source": [
    "\n",
    "\n",
    "##################### Python \n",
    "import pandas as pd\n",
    "import seaborn as sns\n",
    "import matplotlib.pyplot as plt\n",
    "plt.rcParams['font.family'] = 'AppleGothic'\n",
    "import numpy as np\n",
    "import os\n",
    "import datetime\n",
    "import dcor\n",
    "import math\n",
    "pd.set_option('display.max_columns', None)\n",
    "pd.set_option('display.max_rows', 50)\n",
    "import warnings\n",
    "from scipy import stats\n",
    "warnings.filterwarnings('ignore')\n",
    "import os\n",
    "os.chdir('/Users/sss/Desktop/Data')\n",
    "os.getcwd()\n",
    "from IPython.core.display import display, HTML\n",
    "#display(HTML(\"<style>.container { width: 60% !important; }</style>\"))\n",
    "plt.rcParams['font.family'] = 'AppleGothic'\n",
    "import os\n",
    "os.environ['KMP_DUPLICATE_LIB_OK']='True'\n",
    "\n"
   ]
  },
  {
   "cell_type": "code",
   "execution_count": 3,
   "metadata": {},
   "outputs": [],
   "source": [
    "df = pd.read_csv(\"chatper21_logistic.csv\",encoding='euc-kr')"
   ]
  },
  {
   "cell_type": "code",
   "execution_count": 4,
   "metadata": {},
   "outputs": [
    {
     "data": {
      "text/html": [
       "<div>\n",
       "<style scoped>\n",
       "    .dataframe tbody tr th:only-of-type {\n",
       "        vertical-align: middle;\n",
       "    }\n",
       "\n",
       "    .dataframe tbody tr th {\n",
       "        vertical-align: top;\n",
       "    }\n",
       "\n",
       "    .dataframe thead th {\n",
       "        text-align: right;\n",
       "    }\n",
       "</style>\n",
       "<table border=\"1\" class=\"dataframe\">\n",
       "  <thead>\n",
       "    <tr style=\"text-align: right;\">\n",
       "      <th></th>\n",
       "      <th>index</th>\n",
       "      <th>송하인_격자공간고유번호</th>\n",
       "      <th>수하인_격자공간고유번호</th>\n",
       "      <th>물품_카테고리</th>\n",
       "      <th>운송장_건수</th>\n",
       "    </tr>\n",
       "  </thead>\n",
       "  <tbody>\n",
       "    <tr>\n",
       "      <th>0</th>\n",
       "      <td>0</td>\n",
       "      <td>5011000595017300</td>\n",
       "      <td>2871000192069300</td>\n",
       "      <td>음반</td>\n",
       "      <td>3</td>\n",
       "    </tr>\n",
       "    <tr>\n",
       "      <th>1</th>\n",
       "      <td>1</td>\n",
       "      <td>4148000690043300</td>\n",
       "      <td>5011000264024400</td>\n",
       "      <td>문화컨텐츠</td>\n",
       "      <td>3</td>\n",
       "    </tr>\n",
       "    <tr>\n",
       "      <th>2</th>\n",
       "      <td>2</td>\n",
       "      <td>5011000078068400</td>\n",
       "      <td>1120000007005400</td>\n",
       "      <td>농산물</td>\n",
       "      <td>3</td>\n",
       "    </tr>\n",
       "    <tr>\n",
       "      <th>3</th>\n",
       "      <td>3</td>\n",
       "      <td>4127100048006400</td>\n",
       "      <td>5011000587019400</td>\n",
       "      <td>기타식품</td>\n",
       "      <td>7</td>\n",
       "    </tr>\n",
       "    <tr>\n",
       "      <th>4</th>\n",
       "      <td>4</td>\n",
       "      <td>5011000078068400</td>\n",
       "      <td>2823700010076300</td>\n",
       "      <td>농산물</td>\n",
       "      <td>3</td>\n",
       "    </tr>\n",
       "    <tr>\n",
       "      <th>...</th>\n",
       "      <td>...</td>\n",
       "      <td>...</td>\n",
       "      <td>...</td>\n",
       "      <td>...</td>\n",
       "      <td>...</td>\n",
       "    </tr>\n",
       "    <tr>\n",
       "      <th>31679</th>\n",
       "      <td>31679</td>\n",
       "      <td>4471000290087200</td>\n",
       "      <td>5011000213073200</td>\n",
       "      <td>스포츠잡화</td>\n",
       "      <td>3</td>\n",
       "    </tr>\n",
       "    <tr>\n",
       "      <th>31680</th>\n",
       "      <td>31680</td>\n",
       "      <td>1129000014045300</td>\n",
       "      <td>5011000319087100</td>\n",
       "      <td>스마트디바이스</td>\n",
       "      <td>4</td>\n",
       "    </tr>\n",
       "    <tr>\n",
       "      <th>31681</th>\n",
       "      <td>31681</td>\n",
       "      <td>1129000014045300</td>\n",
       "      <td>5011000263065200</td>\n",
       "      <td>스마트디바이스</td>\n",
       "      <td>6</td>\n",
       "    </tr>\n",
       "    <tr>\n",
       "      <th>31682</th>\n",
       "      <td>31682</td>\n",
       "      <td>4127300065073100</td>\n",
       "      <td>5011000264061200</td>\n",
       "      <td>지갑</td>\n",
       "      <td>7</td>\n",
       "    </tr>\n",
       "    <tr>\n",
       "      <th>31683</th>\n",
       "      <td>31683</td>\n",
       "      <td>2811000139076100</td>\n",
       "      <td>5011000520070100</td>\n",
       "      <td>세탁용품</td>\n",
       "      <td>4</td>\n",
       "    </tr>\n",
       "  </tbody>\n",
       "</table>\n",
       "<p>31684 rows × 5 columns</p>\n",
       "</div>"
      ],
      "text/plain": [
       "       index      송하인_격자공간고유번호      수하인_격자공간고유번호  물품_카테고리  운송장_건수\n",
       "0          0  5011000595017300  2871000192069300       음반       3\n",
       "1          1  4148000690043300  5011000264024400    문화컨텐츠       3\n",
       "2          2  5011000078068400  1120000007005400      농산물       3\n",
       "3          3  4127100048006400  5011000587019400     기타식품       7\n",
       "4          4  5011000078068400  2823700010076300      농산물       3\n",
       "...      ...               ...               ...      ...     ...\n",
       "31679  31679  4471000290087200  5011000213073200    스포츠잡화       3\n",
       "31680  31680  1129000014045300  5011000319087100  스마트디바이스       4\n",
       "31681  31681  1129000014045300  5011000263065200  스마트디바이스       6\n",
       "31682  31682  4127300065073100  5011000264061200       지갑       7\n",
       "31683  31683  2811000139076100  5011000520070100     세탁용품       4\n",
       "\n",
       "[31684 rows x 5 columns]"
      ]
     },
     "execution_count": 4,
     "metadata": {},
     "output_type": "execute_result"
    }
   ],
   "source": [
    "df"
   ]
  },
  {
   "cell_type": "code",
   "execution_count": 5,
   "metadata": {},
   "outputs": [
    {
     "data": {
      "text/plain": [
       "Index(['index', '송하인_격자공간고유번호', '수하인_격자공간고유번호', '물품_카테고리', '운송장_건수'], dtype='object')"
      ]
     },
     "execution_count": 5,
     "metadata": {},
     "output_type": "execute_result"
    }
   ],
   "source": [
    "df.columns"
   ]
  },
  {
   "cell_type": "code",
   "execution_count": 13,
   "metadata": {},
   "outputs": [
    {
     "data": {
      "text/plain": [
       "송하인_격자공간고유번호\n",
       "5011000078068400    3882\n",
       "5013000610049100    1790\n",
       "5013000731055200    1235\n",
       "5011000137030100    1137\n",
       "5013000821028200     731\n",
       "                    ... \n",
       "4511300030055300       1\n",
       "4719000321023400       1\n",
       "4423000423020300       1\n",
       "4711300748080100       1\n",
       "2811000139076100       1\n",
       "Name: count, Length: 4229, dtype: int64"
      ]
     },
     "execution_count": 13,
     "metadata": {},
     "output_type": "execute_result"
    }
   ],
   "source": [
    "df['송하인_격자공간고유번호'].value_counts()"
   ]
  },
  {
   "cell_type": "code",
   "execution_count": 14,
   "metadata": {},
   "outputs": [
    {
     "data": {
      "text/plain": [
       "수하인_격자공간고유번호\n",
       "5013000635005300    35\n",
       "5011000543041100    33\n",
       "5011000314069300    33\n",
       "5011000544072300    30\n",
       "5011000318044100    30\n",
       "                    ..\n",
       "5011000109040100     1\n",
       "4183000550093100     1\n",
       "4425000028078200     1\n",
       "1147000011064300     1\n",
       "5011000263065200     1\n",
       "Name: count, Length: 26875, dtype: int64"
      ]
     },
     "execution_count": 14,
     "metadata": {},
     "output_type": "execute_result"
    }
   ],
   "source": [
    "df['수하인_격자공간고유번호'].value_counts()"
   ]
  },
  {
   "cell_type": "code",
   "execution_count": 15,
   "metadata": {},
   "outputs": [
    {
     "data": {
      "text/plain": [
       "물품_카테고리\n",
       "농산물              20321\n",
       "문화컨텐츠             1091\n",
       "음료                1034\n",
       "수산                 860\n",
       "가공식품               846\n",
       "                 ...  \n",
       "유아가구                 4\n",
       "기타출산/육아              4\n",
       "태블릿PC/노트북액세서리        4\n",
       "선케어                  4\n",
       "스포츠잡화                4\n",
       "Name: count, Length: 100, dtype: int64"
      ]
     },
     "execution_count": 15,
     "metadata": {},
     "output_type": "execute_result"
    }
   ],
   "source": [
    "df['물품_카테고리'].value_counts()"
   ]
  },
  {
   "cell_type": "code",
   "execution_count": 16,
   "metadata": {},
   "outputs": [
    {
     "data": {
      "text/plain": [
       "운송장_건수\n",
       "3      17565\n",
       "4       6065\n",
       "5       2928\n",
       "6       1368\n",
       "7        761\n",
       "       ...  \n",
       "77         1\n",
       "108        1\n",
       "211        1\n",
       "130        1\n",
       "89         1\n",
       "Name: count, Length: 100, dtype: int64"
      ]
     },
     "execution_count": 16,
     "metadata": {},
     "output_type": "execute_result"
    }
   ],
   "source": [
    "df['운송장_건수'].value_counts()"
   ]
  },
  {
   "cell_type": "code",
   "execution_count": 17,
   "metadata": {},
   "outputs": [
    {
     "data": {
      "text/html": [
       "<div>\n",
       "<style scoped>\n",
       "    .dataframe tbody tr th:only-of-type {\n",
       "        vertical-align: middle;\n",
       "    }\n",
       "\n",
       "    .dataframe tbody tr th {\n",
       "        vertical-align: top;\n",
       "    }\n",
       "\n",
       "    .dataframe thead th {\n",
       "        text-align: right;\n",
       "    }\n",
       "</style>\n",
       "<table border=\"1\" class=\"dataframe\">\n",
       "  <thead>\n",
       "    <tr style=\"text-align: right;\">\n",
       "      <th></th>\n",
       "      <th>index</th>\n",
       "      <th>송하인_격자공간고유번호</th>\n",
       "      <th>수하인_격자공간고유번호</th>\n",
       "      <th>물품_카테고리</th>\n",
       "      <th>운송장_건수</th>\n",
       "    </tr>\n",
       "  </thead>\n",
       "  <tbody>\n",
       "    <tr>\n",
       "      <th>0</th>\n",
       "      <td>0</td>\n",
       "      <td>5011000595017300</td>\n",
       "      <td>2871000192069300</td>\n",
       "      <td>음반</td>\n",
       "      <td>3</td>\n",
       "    </tr>\n",
       "    <tr>\n",
       "      <th>1</th>\n",
       "      <td>1</td>\n",
       "      <td>4148000690043300</td>\n",
       "      <td>5011000264024400</td>\n",
       "      <td>문화컨텐츠</td>\n",
       "      <td>3</td>\n",
       "    </tr>\n",
       "    <tr>\n",
       "      <th>2</th>\n",
       "      <td>2</td>\n",
       "      <td>5011000078068400</td>\n",
       "      <td>1120000007005400</td>\n",
       "      <td>농산물</td>\n",
       "      <td>3</td>\n",
       "    </tr>\n",
       "    <tr>\n",
       "      <th>3</th>\n",
       "      <td>3</td>\n",
       "      <td>4127100048006400</td>\n",
       "      <td>5011000587019400</td>\n",
       "      <td>기타식품</td>\n",
       "      <td>7</td>\n",
       "    </tr>\n",
       "    <tr>\n",
       "      <th>4</th>\n",
       "      <td>4</td>\n",
       "      <td>5011000078068400</td>\n",
       "      <td>2823700010076300</td>\n",
       "      <td>농산물</td>\n",
       "      <td>3</td>\n",
       "    </tr>\n",
       "    <tr>\n",
       "      <th>...</th>\n",
       "      <td>...</td>\n",
       "      <td>...</td>\n",
       "      <td>...</td>\n",
       "      <td>...</td>\n",
       "      <td>...</td>\n",
       "    </tr>\n",
       "    <tr>\n",
       "      <th>31679</th>\n",
       "      <td>31679</td>\n",
       "      <td>4471000290087200</td>\n",
       "      <td>5011000213073200</td>\n",
       "      <td>스포츠잡화</td>\n",
       "      <td>3</td>\n",
       "    </tr>\n",
       "    <tr>\n",
       "      <th>31680</th>\n",
       "      <td>31680</td>\n",
       "      <td>1129000014045300</td>\n",
       "      <td>5011000319087100</td>\n",
       "      <td>스마트디바이스</td>\n",
       "      <td>4</td>\n",
       "    </tr>\n",
       "    <tr>\n",
       "      <th>31681</th>\n",
       "      <td>31681</td>\n",
       "      <td>1129000014045300</td>\n",
       "      <td>5011000263065200</td>\n",
       "      <td>스마트디바이스</td>\n",
       "      <td>6</td>\n",
       "    </tr>\n",
       "    <tr>\n",
       "      <th>31682</th>\n",
       "      <td>31682</td>\n",
       "      <td>4127300065073100</td>\n",
       "      <td>5011000264061200</td>\n",
       "      <td>지갑</td>\n",
       "      <td>7</td>\n",
       "    </tr>\n",
       "    <tr>\n",
       "      <th>31683</th>\n",
       "      <td>31683</td>\n",
       "      <td>2811000139076100</td>\n",
       "      <td>5011000520070100</td>\n",
       "      <td>세탁용품</td>\n",
       "      <td>4</td>\n",
       "    </tr>\n",
       "  </tbody>\n",
       "</table>\n",
       "<p>31684 rows × 5 columns</p>\n",
       "</div>"
      ],
      "text/plain": [
       "       index      송하인_격자공간고유번호      수하인_격자공간고유번호  물품_카테고리  운송장_건수\n",
       "0          0  5011000595017300  2871000192069300       음반       3\n",
       "1          1  4148000690043300  5011000264024400    문화컨텐츠       3\n",
       "2          2  5011000078068400  1120000007005400      농산물       3\n",
       "3          3  4127100048006400  5011000587019400     기타식품       7\n",
       "4          4  5011000078068400  2823700010076300      농산물       3\n",
       "...      ...               ...               ...      ...     ...\n",
       "31679  31679  4471000290087200  5011000213073200    스포츠잡화       3\n",
       "31680  31680  1129000014045300  5011000319087100  스마트디바이스       4\n",
       "31681  31681  1129000014045300  5011000263065200  스마트디바이스       6\n",
       "31682  31682  4127300065073100  5011000264061200       지갑       7\n",
       "31683  31683  2811000139076100  5011000520070100     세탁용품       4\n",
       "\n",
       "[31684 rows x 5 columns]"
      ]
     },
     "execution_count": 17,
     "metadata": {},
     "output_type": "execute_result"
    }
   ],
   "source": [
    "df"
   ]
  },
  {
   "cell_type": "code",
   "execution_count": 22,
   "metadata": {},
   "outputs": [
    {
     "data": {
      "text/plain": [
       "물품_카테고리\n",
       "농산물          87829\n",
       "음료            5890\n",
       "가공식품          5766\n",
       "문화컨텐츠         5429\n",
       "수산            4880\n",
       "기타식품          4250\n",
       "건강식품          3413\n",
       "축산            3385\n",
       "기타패션의류        3042\n",
       "음반            2357\n",
       "과자            1866\n",
       "냉동/간편조리식품     1787\n",
       "주방용품          1776\n",
       "생활용품          1599\n",
       "건강용품          1554\n",
       "기타디지털/가전      1505\n",
       "반려동물          1388\n",
       "문구/사무용품       1280\n",
       "기타화장품/미용      1111\n",
       "상의            1090\n",
       "Name: 운송장_건수, dtype: int64"
      ]
     },
     "execution_count": 22,
     "metadata": {},
     "output_type": "execute_result"
    }
   ],
   "source": [
    "df.groupby('물품_카테고리')['운송장_건수'].sum().sort_values(ascending=False).head(20)"
   ]
  },
  {
   "cell_type": "code",
   "execution_count": 6,
   "metadata": {},
   "outputs": [],
   "source": [
    "df.columns = ['index', 'start', 'end', 'prod', 'cnt']"
   ]
  },
  {
   "cell_type": "code",
   "execution_count": 7,
   "metadata": {},
   "outputs": [],
   "source": [
    "from sklearn.model_selection import train_test_split, cross_val_score, GridSearchCV, KFold\n",
    "from sklearn.ensemble import RandomForestRegressor\n",
    "from sklearn.linear_model import LinearRegression\n",
    "import statsmodels.api as sm\n",
    "from sklearn.metrics import r2_score, mean_absolute_error, mean_squared_error\n",
    "\n"
   ]
  },
  {
   "cell_type": "code",
   "execution_count": 8,
   "metadata": {},
   "outputs": [
    {
     "data": {
      "text/plain": [
       "count    31684.000000\n",
       "mean         4.879308\n",
       "std          6.756473\n",
       "min          3.000000\n",
       "25%          3.000000\n",
       "50%          3.000000\n",
       "75%          5.000000\n",
       "max        413.000000\n",
       "Name: cnt, dtype: float64"
      ]
     },
     "execution_count": 8,
     "metadata": {},
     "output_type": "execute_result"
    }
   ],
   "source": [
    "df['cnt'].describe()"
   ]
  },
  {
   "cell_type": "code",
   "execution_count": 9,
   "metadata": {},
   "outputs": [
    {
     "data": {
      "text/plain": [
       "2.0"
      ]
     },
     "execution_count": 9,
     "metadata": {},
     "output_type": "execute_result"
    }
   ],
   "source": [
    "iqr = df['cnt'].describe()[6] - df['cnt'].describe()[4]\n",
    "iqr\n"
   ]
  },
  {
   "cell_type": "code",
   "execution_count": 10,
   "metadata": {},
   "outputs": [],
   "source": [
    "df_new = df[(df['cnt'] > (df['cnt'].describe()[4]\\\n",
    "- iqr*1.5))&(df['cnt'] < (df['cnt'].describe()[6] + iqr*1.5))]"
   ]
  },
  {
   "cell_type": "code",
   "execution_count": 11,
   "metadata": {},
   "outputs": [
    {
     "data": {
      "text/plain": [
       "count    28687.000000\n",
       "mean         3.664726\n",
       "std          1.015623\n",
       "min          3.000000\n",
       "25%          3.000000\n",
       "50%          3.000000\n",
       "75%          4.000000\n",
       "max          7.000000\n",
       "Name: cnt, dtype: float64"
      ]
     },
     "execution_count": 11,
     "metadata": {},
     "output_type": "execute_result"
    }
   ],
   "source": [
    "df_new['cnt'].describe()"
   ]
  },
  {
   "cell_type": "code",
   "execution_count": null,
   "metadata": {},
   "outputs": [],
   "source": []
  },
  {
   "cell_type": "code",
   "execution_count": null,
   "metadata": {},
   "outputs": [],
   "source": []
  },
  {
   "cell_type": "code",
   "execution_count": 12,
   "metadata": {},
   "outputs": [
    {
     "data": {
      "text/plain": [
       "index    0\n",
       "start    0\n",
       "end      0\n",
       "prod     0\n",
       "cnt      0\n",
       "dtype: int64"
      ]
     },
     "execution_count": 12,
     "metadata": {},
     "output_type": "execute_result"
    }
   ],
   "source": [
    "df.isnull().sum()"
   ]
  },
  {
   "cell_type": "code",
   "execution_count": 13,
   "metadata": {},
   "outputs": [],
   "source": [
    "X = df.drop(['index','cnt' ], axis=1)\n",
    "Y = df['cnt']\n",
    "\n",
    "x_train, x_test, y_train, y_test = train_test_split(X,Y, test_size=0.3)\n"
   ]
  },
  {
   "cell_type": "code",
   "execution_count": 14,
   "metadata": {},
   "outputs": [
    {
     "name": "stdout",
     "output_type": "stream",
     "text": [
      "(22178, 3)\n",
      "(9506, 3)\n",
      "(22178,)\n",
      "(9506,)\n"
     ]
    }
   ],
   "source": [
    "print(x_train.shape)\n",
    "print(x_test.shape)\n",
    "print(y_train.shape)\n",
    "print(y_test.shape)"
   ]
  },
  {
   "cell_type": "code",
   "execution_count": null,
   "metadata": {},
   "outputs": [],
   "source": []
  },
  {
   "cell_type": "code",
   "execution_count": null,
   "metadata": {},
   "outputs": [],
   "source": []
  },
  {
   "cell_type": "code",
   "execution_count": 15,
   "metadata": {},
   "outputs": [],
   "source": [
    "from sklearn.preprocessing import LabelEncoder"
   ]
  },
  {
   "cell_type": "code",
   "execution_count": 16,
   "metadata": {},
   "outputs": [
    {
     "data": {
      "text/html": [
       "<div>\n",
       "<style scoped>\n",
       "    .dataframe tbody tr th:only-of-type {\n",
       "        vertical-align: middle;\n",
       "    }\n",
       "\n",
       "    .dataframe tbody tr th {\n",
       "        vertical-align: top;\n",
       "    }\n",
       "\n",
       "    .dataframe thead th {\n",
       "        text-align: right;\n",
       "    }\n",
       "</style>\n",
       "<table border=\"1\" class=\"dataframe\">\n",
       "  <thead>\n",
       "    <tr style=\"text-align: right;\">\n",
       "      <th></th>\n",
       "      <th>start</th>\n",
       "      <th>end</th>\n",
       "      <th>prod</th>\n",
       "    </tr>\n",
       "  </thead>\n",
       "  <tbody>\n",
       "    <tr>\n",
       "      <th>12351</th>\n",
       "      <td>5013000610049100</td>\n",
       "      <td>1165000014081200</td>\n",
       "      <td>농산물</td>\n",
       "    </tr>\n",
       "    <tr>\n",
       "      <th>24879</th>\n",
       "      <td>5011000137030100</td>\n",
       "      <td>4613000310042100</td>\n",
       "      <td>농산물</td>\n",
       "    </tr>\n",
       "    <tr>\n",
       "      <th>4145</th>\n",
       "      <td>5013000735079200</td>\n",
       "      <td>4833000032061100</td>\n",
       "      <td>농산물</td>\n",
       "    </tr>\n",
       "    <tr>\n",
       "      <th>7617</th>\n",
       "      <td>5013000043045200</td>\n",
       "      <td>4161000330057200</td>\n",
       "      <td>농산물</td>\n",
       "    </tr>\n",
       "    <tr>\n",
       "      <th>16609</th>\n",
       "      <td>5011000427089100</td>\n",
       "      <td>2653000021086300</td>\n",
       "      <td>음료</td>\n",
       "    </tr>\n",
       "    <tr>\n",
       "      <th>...</th>\n",
       "      <td>...</td>\n",
       "      <td>...</td>\n",
       "      <td>...</td>\n",
       "    </tr>\n",
       "    <tr>\n",
       "      <th>26249</th>\n",
       "      <td>5011000316024300</td>\n",
       "      <td>4511300098042300</td>\n",
       "      <td>수산</td>\n",
       "    </tr>\n",
       "    <tr>\n",
       "      <th>20631</th>\n",
       "      <td>5011000078068400</td>\n",
       "      <td>1129000009088400</td>\n",
       "      <td>농산물</td>\n",
       "    </tr>\n",
       "    <tr>\n",
       "      <th>1114</th>\n",
       "      <td>5013000905088200</td>\n",
       "      <td>4150000073089200</td>\n",
       "      <td>농산물</td>\n",
       "    </tr>\n",
       "    <tr>\n",
       "      <th>27718</th>\n",
       "      <td>5013000624091200</td>\n",
       "      <td>2771000320033400</td>\n",
       "      <td>농산물</td>\n",
       "    </tr>\n",
       "    <tr>\n",
       "      <th>30116</th>\n",
       "      <td>4161000271049100</td>\n",
       "      <td>5013000822085100</td>\n",
       "      <td>인테리어소품</td>\n",
       "    </tr>\n",
       "  </tbody>\n",
       "</table>\n",
       "<p>22178 rows × 3 columns</p>\n",
       "</div>"
      ],
      "text/plain": [
       "                  start               end    prod\n",
       "12351  5013000610049100  1165000014081200     농산물\n",
       "24879  5011000137030100  4613000310042100     농산물\n",
       "4145   5013000735079200  4833000032061100     농산물\n",
       "7617   5013000043045200  4161000330057200     농산물\n",
       "16609  5011000427089100  2653000021086300      음료\n",
       "...                 ...               ...     ...\n",
       "26249  5011000316024300  4511300098042300      수산\n",
       "20631  5011000078068400  1129000009088400     농산물\n",
       "1114   5013000905088200  4150000073089200     농산물\n",
       "27718  5013000624091200  2771000320033400     농산물\n",
       "30116  4161000271049100  5013000822085100  인테리어소품\n",
       "\n",
       "[22178 rows x 3 columns]"
      ]
     },
     "execution_count": 16,
     "metadata": {},
     "output_type": "execute_result"
    }
   ],
   "source": [
    "x_train"
   ]
  },
  {
   "cell_type": "code",
   "execution_count": 17,
   "metadata": {},
   "outputs": [
    {
     "data": {
      "text/html": [
       "<div>\n",
       "<style scoped>\n",
       "    .dataframe tbody tr th:only-of-type {\n",
       "        vertical-align: middle;\n",
       "    }\n",
       "\n",
       "    .dataframe tbody tr th {\n",
       "        vertical-align: top;\n",
       "    }\n",
       "\n",
       "    .dataframe thead th {\n",
       "        text-align: right;\n",
       "    }\n",
       "</style>\n",
       "<table border=\"1\" class=\"dataframe\">\n",
       "  <thead>\n",
       "    <tr style=\"text-align: right;\">\n",
       "      <th></th>\n",
       "      <th>index</th>\n",
       "      <th>start</th>\n",
       "      <th>end</th>\n",
       "      <th>prod</th>\n",
       "      <th>cnt</th>\n",
       "    </tr>\n",
       "  </thead>\n",
       "  <tbody>\n",
       "    <tr>\n",
       "      <th>0</th>\n",
       "      <td>0</td>\n",
       "      <td>5011000595017300</td>\n",
       "      <td>2871000192069300</td>\n",
       "      <td>음반</td>\n",
       "      <td>3</td>\n",
       "    </tr>\n",
       "    <tr>\n",
       "      <th>1</th>\n",
       "      <td>1</td>\n",
       "      <td>4148000690043300</td>\n",
       "      <td>5011000264024400</td>\n",
       "      <td>문화컨텐츠</td>\n",
       "      <td>3</td>\n",
       "    </tr>\n",
       "    <tr>\n",
       "      <th>2</th>\n",
       "      <td>2</td>\n",
       "      <td>5011000078068400</td>\n",
       "      <td>1120000007005400</td>\n",
       "      <td>농산물</td>\n",
       "      <td>3</td>\n",
       "    </tr>\n",
       "    <tr>\n",
       "      <th>3</th>\n",
       "      <td>3</td>\n",
       "      <td>4127100048006400</td>\n",
       "      <td>5011000587019400</td>\n",
       "      <td>기타식품</td>\n",
       "      <td>7</td>\n",
       "    </tr>\n",
       "    <tr>\n",
       "      <th>4</th>\n",
       "      <td>4</td>\n",
       "      <td>5011000078068400</td>\n",
       "      <td>2823700010076300</td>\n",
       "      <td>농산물</td>\n",
       "      <td>3</td>\n",
       "    </tr>\n",
       "    <tr>\n",
       "      <th>...</th>\n",
       "      <td>...</td>\n",
       "      <td>...</td>\n",
       "      <td>...</td>\n",
       "      <td>...</td>\n",
       "      <td>...</td>\n",
       "    </tr>\n",
       "    <tr>\n",
       "      <th>31679</th>\n",
       "      <td>31679</td>\n",
       "      <td>4471000290087200</td>\n",
       "      <td>5011000213073200</td>\n",
       "      <td>스포츠잡화</td>\n",
       "      <td>3</td>\n",
       "    </tr>\n",
       "    <tr>\n",
       "      <th>31680</th>\n",
       "      <td>31680</td>\n",
       "      <td>1129000014045300</td>\n",
       "      <td>5011000319087100</td>\n",
       "      <td>스마트디바이스</td>\n",
       "      <td>4</td>\n",
       "    </tr>\n",
       "    <tr>\n",
       "      <th>31681</th>\n",
       "      <td>31681</td>\n",
       "      <td>1129000014045300</td>\n",
       "      <td>5011000263065200</td>\n",
       "      <td>스마트디바이스</td>\n",
       "      <td>6</td>\n",
       "    </tr>\n",
       "    <tr>\n",
       "      <th>31682</th>\n",
       "      <td>31682</td>\n",
       "      <td>4127300065073100</td>\n",
       "      <td>5011000264061200</td>\n",
       "      <td>지갑</td>\n",
       "      <td>7</td>\n",
       "    </tr>\n",
       "    <tr>\n",
       "      <th>31683</th>\n",
       "      <td>31683</td>\n",
       "      <td>2811000139076100</td>\n",
       "      <td>5011000520070100</td>\n",
       "      <td>세탁용품</td>\n",
       "      <td>4</td>\n",
       "    </tr>\n",
       "  </tbody>\n",
       "</table>\n",
       "<p>31684 rows × 5 columns</p>\n",
       "</div>"
      ],
      "text/plain": [
       "       index             start               end     prod  cnt\n",
       "0          0  5011000595017300  2871000192069300       음반    3\n",
       "1          1  4148000690043300  5011000264024400    문화컨텐츠    3\n",
       "2          2  5011000078068400  1120000007005400      농산물    3\n",
       "3          3  4127100048006400  5011000587019400     기타식품    7\n",
       "4          4  5011000078068400  2823700010076300      농산물    3\n",
       "...      ...               ...               ...      ...  ...\n",
       "31679  31679  4471000290087200  5011000213073200    스포츠잡화    3\n",
       "31680  31680  1129000014045300  5011000319087100  스마트디바이스    4\n",
       "31681  31681  1129000014045300  5011000263065200  스마트디바이스    6\n",
       "31682  31682  4127300065073100  5011000264061200       지갑    7\n",
       "31683  31683  2811000139076100  5011000520070100     세탁용품    4\n",
       "\n",
       "[31684 rows x 5 columns]"
      ]
     },
     "execution_count": 17,
     "metadata": {},
     "output_type": "execute_result"
    }
   ],
   "source": [
    "df"
   ]
  },
  {
   "cell_type": "code",
   "execution_count": 18,
   "metadata": {},
   "outputs": [
    {
     "data": {
      "text/html": [
       "<div>\n",
       "<style scoped>\n",
       "    .dataframe tbody tr th:only-of-type {\n",
       "        vertical-align: middle;\n",
       "    }\n",
       "\n",
       "    .dataframe tbody tr th {\n",
       "        vertical-align: top;\n",
       "    }\n",
       "\n",
       "    .dataframe thead th {\n",
       "        text-align: right;\n",
       "    }\n",
       "</style>\n",
       "<table border=\"1\" class=\"dataframe\">\n",
       "  <thead>\n",
       "    <tr style=\"text-align: right;\">\n",
       "      <th></th>\n",
       "      <th>index</th>\n",
       "      <th>start</th>\n",
       "      <th>end</th>\n",
       "      <th>prod</th>\n",
       "      <th>cnt</th>\n",
       "    </tr>\n",
       "  </thead>\n",
       "  <tbody>\n",
       "    <tr>\n",
       "      <th>0</th>\n",
       "      <td>0</td>\n",
       "      <td>5011000595017300</td>\n",
       "      <td>2871000192069300</td>\n",
       "      <td>음반</td>\n",
       "      <td>3</td>\n",
       "    </tr>\n",
       "    <tr>\n",
       "      <th>1</th>\n",
       "      <td>1</td>\n",
       "      <td>4148000690043300</td>\n",
       "      <td>5011000264024400</td>\n",
       "      <td>문화컨텐츠</td>\n",
       "      <td>3</td>\n",
       "    </tr>\n",
       "    <tr>\n",
       "      <th>2</th>\n",
       "      <td>2</td>\n",
       "      <td>5011000078068400</td>\n",
       "      <td>1120000007005400</td>\n",
       "      <td>농산물</td>\n",
       "      <td>3</td>\n",
       "    </tr>\n",
       "    <tr>\n",
       "      <th>3</th>\n",
       "      <td>3</td>\n",
       "      <td>4127100048006400</td>\n",
       "      <td>5011000587019400</td>\n",
       "      <td>기타식품</td>\n",
       "      <td>7</td>\n",
       "    </tr>\n",
       "    <tr>\n",
       "      <th>4</th>\n",
       "      <td>4</td>\n",
       "      <td>5011000078068400</td>\n",
       "      <td>2823700010076300</td>\n",
       "      <td>농산물</td>\n",
       "      <td>3</td>\n",
       "    </tr>\n",
       "    <tr>\n",
       "      <th>...</th>\n",
       "      <td>...</td>\n",
       "      <td>...</td>\n",
       "      <td>...</td>\n",
       "      <td>...</td>\n",
       "      <td>...</td>\n",
       "    </tr>\n",
       "    <tr>\n",
       "      <th>31679</th>\n",
       "      <td>31679</td>\n",
       "      <td>4471000290087200</td>\n",
       "      <td>5011000213073200</td>\n",
       "      <td>스포츠잡화</td>\n",
       "      <td>3</td>\n",
       "    </tr>\n",
       "    <tr>\n",
       "      <th>31680</th>\n",
       "      <td>31680</td>\n",
       "      <td>1129000014045300</td>\n",
       "      <td>5011000319087100</td>\n",
       "      <td>스마트디바이스</td>\n",
       "      <td>4</td>\n",
       "    </tr>\n",
       "    <tr>\n",
       "      <th>31681</th>\n",
       "      <td>31681</td>\n",
       "      <td>1129000014045300</td>\n",
       "      <td>5011000263065200</td>\n",
       "      <td>스마트디바이스</td>\n",
       "      <td>6</td>\n",
       "    </tr>\n",
       "    <tr>\n",
       "      <th>31682</th>\n",
       "      <td>31682</td>\n",
       "      <td>4127300065073100</td>\n",
       "      <td>5011000264061200</td>\n",
       "      <td>지갑</td>\n",
       "      <td>7</td>\n",
       "    </tr>\n",
       "    <tr>\n",
       "      <th>31683</th>\n",
       "      <td>31683</td>\n",
       "      <td>2811000139076100</td>\n",
       "      <td>5011000520070100</td>\n",
       "      <td>세탁용품</td>\n",
       "      <td>4</td>\n",
       "    </tr>\n",
       "  </tbody>\n",
       "</table>\n",
       "<p>31684 rows × 5 columns</p>\n",
       "</div>"
      ],
      "text/plain": [
       "       index             start               end     prod  cnt\n",
       "0          0  5011000595017300  2871000192069300       음반    3\n",
       "1          1  4148000690043300  5011000264024400    문화컨텐츠    3\n",
       "2          2  5011000078068400  1120000007005400      농산물    3\n",
       "3          3  4127100048006400  5011000587019400     기타식품    7\n",
       "4          4  5011000078068400  2823700010076300      농산물    3\n",
       "...      ...               ...               ...      ...  ...\n",
       "31679  31679  4471000290087200  5011000213073200    스포츠잡화    3\n",
       "31680  31680  1129000014045300  5011000319087100  스마트디바이스    4\n",
       "31681  31681  1129000014045300  5011000263065200  스마트디바이스    6\n",
       "31682  31682  4127300065073100  5011000264061200       지갑    7\n",
       "31683  31683  2811000139076100  5011000520070100     세탁용품    4\n",
       "\n",
       "[31684 rows x 5 columns]"
      ]
     },
     "execution_count": 18,
     "metadata": {},
     "output_type": "execute_result"
    }
   ],
   "source": [
    "df"
   ]
  },
  {
   "cell_type": "code",
   "execution_count": 19,
   "metadata": {},
   "outputs": [
    {
     "data": {
      "text/html": [
       "<div>\n",
       "<style scoped>\n",
       "    .dataframe tbody tr th:only-of-type {\n",
       "        vertical-align: middle;\n",
       "    }\n",
       "\n",
       "    .dataframe tbody tr th {\n",
       "        vertical-align: top;\n",
       "    }\n",
       "\n",
       "    .dataframe thead th {\n",
       "        text-align: right;\n",
       "    }\n",
       "</style>\n",
       "<table border=\"1\" class=\"dataframe\">\n",
       "  <thead>\n",
       "    <tr style=\"text-align: right;\">\n",
       "      <th></th>\n",
       "      <th>index</th>\n",
       "      <th>start</th>\n",
       "      <th>end</th>\n",
       "      <th>prod</th>\n",
       "      <th>cnt</th>\n",
       "    </tr>\n",
       "  </thead>\n",
       "  <tbody>\n",
       "    <tr>\n",
       "      <th>0</th>\n",
       "      <td>0</td>\n",
       "      <td>5011000595017300</td>\n",
       "      <td>2871000192069300</td>\n",
       "      <td>음반</td>\n",
       "      <td>3</td>\n",
       "    </tr>\n",
       "    <tr>\n",
       "      <th>1</th>\n",
       "      <td>1</td>\n",
       "      <td>4148000690043300</td>\n",
       "      <td>5011000264024400</td>\n",
       "      <td>문화컨텐츠</td>\n",
       "      <td>3</td>\n",
       "    </tr>\n",
       "    <tr>\n",
       "      <th>2</th>\n",
       "      <td>2</td>\n",
       "      <td>5011000078068400</td>\n",
       "      <td>1120000007005400</td>\n",
       "      <td>농산물</td>\n",
       "      <td>3</td>\n",
       "    </tr>\n",
       "    <tr>\n",
       "      <th>3</th>\n",
       "      <td>3</td>\n",
       "      <td>4127100048006400</td>\n",
       "      <td>5011000587019400</td>\n",
       "      <td>기타식품</td>\n",
       "      <td>7</td>\n",
       "    </tr>\n",
       "    <tr>\n",
       "      <th>4</th>\n",
       "      <td>4</td>\n",
       "      <td>5011000078068400</td>\n",
       "      <td>2823700010076300</td>\n",
       "      <td>농산물</td>\n",
       "      <td>3</td>\n",
       "    </tr>\n",
       "    <tr>\n",
       "      <th>...</th>\n",
       "      <td>...</td>\n",
       "      <td>...</td>\n",
       "      <td>...</td>\n",
       "      <td>...</td>\n",
       "      <td>...</td>\n",
       "    </tr>\n",
       "    <tr>\n",
       "      <th>31679</th>\n",
       "      <td>31679</td>\n",
       "      <td>4471000290087200</td>\n",
       "      <td>5011000213073200</td>\n",
       "      <td>스포츠잡화</td>\n",
       "      <td>3</td>\n",
       "    </tr>\n",
       "    <tr>\n",
       "      <th>31680</th>\n",
       "      <td>31680</td>\n",
       "      <td>1129000014045300</td>\n",
       "      <td>5011000319087100</td>\n",
       "      <td>스마트디바이스</td>\n",
       "      <td>4</td>\n",
       "    </tr>\n",
       "    <tr>\n",
       "      <th>31681</th>\n",
       "      <td>31681</td>\n",
       "      <td>1129000014045300</td>\n",
       "      <td>5011000263065200</td>\n",
       "      <td>스마트디바이스</td>\n",
       "      <td>6</td>\n",
       "    </tr>\n",
       "    <tr>\n",
       "      <th>31682</th>\n",
       "      <td>31682</td>\n",
       "      <td>4127300065073100</td>\n",
       "      <td>5011000264061200</td>\n",
       "      <td>지갑</td>\n",
       "      <td>7</td>\n",
       "    </tr>\n",
       "    <tr>\n",
       "      <th>31683</th>\n",
       "      <td>31683</td>\n",
       "      <td>2811000139076100</td>\n",
       "      <td>5011000520070100</td>\n",
       "      <td>세탁용품</td>\n",
       "      <td>4</td>\n",
       "    </tr>\n",
       "  </tbody>\n",
       "</table>\n",
       "<p>31684 rows × 5 columns</p>\n",
       "</div>"
      ],
      "text/plain": [
       "       index             start               end     prod  cnt\n",
       "0          0  5011000595017300  2871000192069300       음반    3\n",
       "1          1  4148000690043300  5011000264024400    문화컨텐츠    3\n",
       "2          2  5011000078068400  1120000007005400      농산물    3\n",
       "3          3  4127100048006400  5011000587019400     기타식품    7\n",
       "4          4  5011000078068400  2823700010076300      농산물    3\n",
       "...      ...               ...               ...      ...  ...\n",
       "31679  31679  4471000290087200  5011000213073200    스포츠잡화    3\n",
       "31680  31680  1129000014045300  5011000319087100  스마트디바이스    4\n",
       "31681  31681  1129000014045300  5011000263065200  스마트디바이스    6\n",
       "31682  31682  4127300065073100  5011000264061200       지갑    7\n",
       "31683  31683  2811000139076100  5011000520070100     세탁용품    4\n",
       "\n",
       "[31684 rows x 5 columns]"
      ]
     },
     "execution_count": 19,
     "metadata": {},
     "output_type": "execute_result"
    }
   ],
   "source": [
    "df"
   ]
  },
  {
   "cell_type": "code",
   "execution_count": 24,
   "metadata": {},
   "outputs": [
    {
     "data": {
      "text/html": [
       "<div>\n",
       "<style scoped>\n",
       "    .dataframe tbody tr th:only-of-type {\n",
       "        vertical-align: middle;\n",
       "    }\n",
       "\n",
       "    .dataframe tbody tr th {\n",
       "        vertical-align: top;\n",
       "    }\n",
       "\n",
       "    .dataframe thead th {\n",
       "        text-align: right;\n",
       "    }\n",
       "</style>\n",
       "<table border=\"1\" class=\"dataframe\">\n",
       "  <thead>\n",
       "    <tr style=\"text-align: right;\">\n",
       "      <th></th>\n",
       "      <th>index</th>\n",
       "      <th>start</th>\n",
       "      <th>end</th>\n",
       "      <th>prod</th>\n",
       "      <th>cnt</th>\n",
       "    </tr>\n",
       "  </thead>\n",
       "  <tbody>\n",
       "    <tr>\n",
       "      <th>0</th>\n",
       "      <td>0</td>\n",
       "      <td>5011000595017300</td>\n",
       "      <td>2871000192069300</td>\n",
       "      <td>음반</td>\n",
       "      <td>3</td>\n",
       "    </tr>\n",
       "    <tr>\n",
       "      <th>1</th>\n",
       "      <td>1</td>\n",
       "      <td>4148000690043300</td>\n",
       "      <td>5011000264024400</td>\n",
       "      <td>문화컨텐츠</td>\n",
       "      <td>3</td>\n",
       "    </tr>\n",
       "    <tr>\n",
       "      <th>2</th>\n",
       "      <td>2</td>\n",
       "      <td>5011000078068400</td>\n",
       "      <td>1120000007005400</td>\n",
       "      <td>농산물</td>\n",
       "      <td>3</td>\n",
       "    </tr>\n",
       "    <tr>\n",
       "      <th>3</th>\n",
       "      <td>3</td>\n",
       "      <td>4127100048006400</td>\n",
       "      <td>5011000587019400</td>\n",
       "      <td>기타식품</td>\n",
       "      <td>7</td>\n",
       "    </tr>\n",
       "    <tr>\n",
       "      <th>4</th>\n",
       "      <td>4</td>\n",
       "      <td>5011000078068400</td>\n",
       "      <td>2823700010076300</td>\n",
       "      <td>농산물</td>\n",
       "      <td>3</td>\n",
       "    </tr>\n",
       "    <tr>\n",
       "      <th>...</th>\n",
       "      <td>...</td>\n",
       "      <td>...</td>\n",
       "      <td>...</td>\n",
       "      <td>...</td>\n",
       "      <td>...</td>\n",
       "    </tr>\n",
       "    <tr>\n",
       "      <th>31679</th>\n",
       "      <td>31679</td>\n",
       "      <td>4471000290087200</td>\n",
       "      <td>5011000213073200</td>\n",
       "      <td>스포츠잡화</td>\n",
       "      <td>3</td>\n",
       "    </tr>\n",
       "    <tr>\n",
       "      <th>31680</th>\n",
       "      <td>31680</td>\n",
       "      <td>1129000014045300</td>\n",
       "      <td>5011000319087100</td>\n",
       "      <td>스마트디바이스</td>\n",
       "      <td>4</td>\n",
       "    </tr>\n",
       "    <tr>\n",
       "      <th>31681</th>\n",
       "      <td>31681</td>\n",
       "      <td>1129000014045300</td>\n",
       "      <td>5011000263065200</td>\n",
       "      <td>스마트디바이스</td>\n",
       "      <td>6</td>\n",
       "    </tr>\n",
       "    <tr>\n",
       "      <th>31682</th>\n",
       "      <td>31682</td>\n",
       "      <td>4127300065073100</td>\n",
       "      <td>5011000264061200</td>\n",
       "      <td>지갑</td>\n",
       "      <td>7</td>\n",
       "    </tr>\n",
       "    <tr>\n",
       "      <th>31683</th>\n",
       "      <td>31683</td>\n",
       "      <td>2811000139076100</td>\n",
       "      <td>5011000520070100</td>\n",
       "      <td>세탁용품</td>\n",
       "      <td>4</td>\n",
       "    </tr>\n",
       "  </tbody>\n",
       "</table>\n",
       "<p>31684 rows × 5 columns</p>\n",
       "</div>"
      ],
      "text/plain": [
       "       index             start               end     prod  cnt\n",
       "0          0  5011000595017300  2871000192069300       음반    3\n",
       "1          1  4148000690043300  5011000264024400    문화컨텐츠    3\n",
       "2          2  5011000078068400  1120000007005400      농산물    3\n",
       "3          3  4127100048006400  5011000587019400     기타식품    7\n",
       "4          4  5011000078068400  2823700010076300      농산물    3\n",
       "...      ...               ...               ...      ...  ...\n",
       "31679  31679  4471000290087200  5011000213073200    스포츠잡화    3\n",
       "31680  31680  1129000014045300  5011000319087100  스마트디바이스    4\n",
       "31681  31681  1129000014045300  5011000263065200  스마트디바이스    6\n",
       "31682  31682  4127300065073100  5011000264061200       지갑    7\n",
       "31683  31683  2811000139076100  5011000520070100     세탁용품    4\n",
       "\n",
       "[31684 rows x 5 columns]"
      ]
     },
     "execution_count": 24,
     "metadata": {},
     "output_type": "execute_result"
    }
   ],
   "source": [
    "df"
   ]
  },
  {
   "cell_type": "code",
   "execution_count": 27,
   "metadata": {},
   "outputs": [],
   "source": [
    "from sklearn.preprocessing import LabelEncoder\n",
    "\n",
    "\n",
    "\n",
    "X = df.drop(['index', 'cnt'], axis=1)\n",
    "Y = df['cnt']\n",
    "\n",
    "X['prod'] = le.fit_transform(X['prod'])\n",
    "\n",
    "x_train, x_test, y_train, y_test = train_test_split(X, Y, test_size=0.2)\n",
    "\n"
   ]
  },
  {
   "cell_type": "code",
   "execution_count": 28,
   "metadata": {},
   "outputs": [
    {
     "data": {
      "text/plain": [
       "(                  start               end  prod\n",
       " 437    4136000216029100  5011000768053100    36\n",
       " 21802  5013000459099100  1138000016067400    27\n",
       " 1380   4141000031030100  5011000374055400    57\n",
       " 3819   5011000137030100  4825000286062200    27\n",
       " 23820  5013000777063100  4146500013012200    27\n",
       " ...                 ...               ...   ...\n",
       " 1685   5011000437099200  4279000585031300    27\n",
       " 18923  5013000910072100  1168000016035200    27\n",
       " 8612   5011000141080300  1121500011096400    11\n",
       " 8508   4681000486026200  5011000258035100    51\n",
       " 13652  5013000610049100  1138000026004100    27\n",
       " \n",
       " [25347 rows x 3 columns],\n",
       "                   start               end  prod\n",
       " 11780  5011000137030100  2629000015054200    27\n",
       " 1231   5011000595017300  4157000189045400    67\n",
       " 28633  1153000017005200  5011000265053300    29\n",
       " 13545  5011000312034400  3014000012097100    27\n",
       " 8523   4684000416070200  5011000168061400     5\n",
       " ...                 ...               ...   ...\n",
       " 18135  5013000930047300  4415000483023400    27\n",
       " 283    5013000783057100  3011000060079300    27\n",
       " 14668  5011000316067400  2820000035038300    27\n",
       " 22168  5011000078068400  4113100020030100    27\n",
       " 9292   5013000468052400  4127100036086300    66\n",
       " \n",
       " [6337 rows x 3 columns],\n",
       " 437       3\n",
       " 21802     4\n",
       " 1380      6\n",
       " 3819      4\n",
       " 23820     3\n",
       "          ..\n",
       " 1685      4\n",
       " 18923     3\n",
       " 8612     10\n",
       " 8508      4\n",
       " 13652     3\n",
       " Name: cnt, Length: 25347, dtype: int64,\n",
       " 11780     3\n",
       " 1231      4\n",
       " 28633     3\n",
       " 13545     3\n",
       " 8523     10\n",
       "          ..\n",
       " 18135     3\n",
       " 283       3\n",
       " 14668     7\n",
       " 22168     3\n",
       " 9292      3\n",
       " Name: cnt, Length: 6337, dtype: int64)"
      ]
     },
     "execution_count": 28,
     "metadata": {},
     "output_type": "execute_result"
    }
   ],
   "source": [
    "x_train, x_test, y_train, y_test"
   ]
  },
  {
   "cell_type": "code",
   "execution_count": null,
   "metadata": {},
   "outputs": [],
   "source": []
  },
  {
   "cell_type": "code",
   "execution_count": 29,
   "metadata": {},
   "outputs": [
    {
     "name": "stdout",
     "output_type": "stream",
     "text": [
      "0.23681747157012834\n",
      "0.1551453146979318\n"
     ]
    }
   ],
   "source": [
    "rfr = RandomForestRegressor(n_estimators=200, max_depth=6)\n",
    "rfr.fit(x_train, y_train)\n",
    "\n",
    "y_pred_train = rfr.predict(x_train)\n",
    "y_pred_test = rfr.predict(x_test)\n",
    "\n",
    "print(r2_score(y_train, y_pred_train))\n",
    "print(r2_score(y_test, y_pred_test))"
   ]
  },
  {
   "cell_type": "code",
   "execution_count": null,
   "metadata": {},
   "outputs": [],
   "source": []
  },
  {
   "cell_type": "code",
   "execution_count": null,
   "metadata": {},
   "outputs": [],
   "source": []
  },
  {
   "cell_type": "code",
   "execution_count": 30,
   "metadata": {},
   "outputs": [],
   "source": [
    "def model_check(other):\n",
    "    \n",
    "    other.fit(x_train, y_train)\n",
    "\n",
    "    y_pred_train = other.predict(x_train)\n",
    "    y_pred_test = other.predict(x_test)\n",
    "\n",
    "\n",
    "    print(r2_score(y_train, y_pred_train))\n",
    "    print(r2_score(y_test, y_pred_test))\n",
    "\n",
    "    print('mae')\n",
    "    print(mean_absolute_error(y_train, y_pred_train))\n",
    "    print(np.sqrt(mean_squared_error(y_train, y_pred_train)))\n",
    "\n",
    "    print('rmse')\n",
    "    print(mean_absolute_error(y_test, y_pred_test))\n",
    "    print(np.sqrt(mean_squared_error(y_test, y_pred_test)))\n",
    "\n",
    "    print('Result Data Frame')\n",
    "    result = pd.DataFrame({'real': y_test, 'predicted' : y_pred_test})\n",
    "    result['diff'] = result['real'] - result['predicted']\n",
    "    print(result)\n",
    "\n",
    "    sns.scatterplot(data=result, x='real', y='predicted')\n",
    "    plt.plot([result['real'].min(),result['real'].max()], [result['real'].min(),result['real'].max()])\n",
    "    plt.axhline(result['real'].mean(), color='red')\n",
    "    plt.xlim(0, 60)\n",
    "    plt.ylim(0, 60)\n",
    "    plt.show()\n",
    "\n",
    "\n",
    "    top20 = pd.Series(other.feature_importances_, x_train.columns)\n",
    "    top20 = top20.sort_values(ascending=False)\n",
    "    sns.barplot(x=top20, y=top20.index)\n",
    "    plt.show()"
   ]
  },
  {
   "cell_type": "code",
   "execution_count": 31,
   "metadata": {},
   "outputs": [],
   "source": [
    "import xgboost as xgb\n",
    "import lightgbm as lgb\n",
    "\n"
   ]
  },
  {
   "cell_type": "code",
   "execution_count": 32,
   "metadata": {},
   "outputs": [
    {
     "name": "stdout",
     "output_type": "stream",
     "text": [
      "0.23514388768694072\n",
      "0.1537037046614873\n",
      "mae\n",
      "2.2558853393792684\n",
      "5.9590109008312275\n",
      "rmse\n",
      "2.3440255854937213\n",
      "5.9995868593647765\n",
      "Result Data Frame\n",
      "       real  predicted      diff\n",
      "11780     3   3.788357 -0.788357\n",
      "1231      4   4.518567 -0.518567\n",
      "28633     3   4.446887 -1.446887\n",
      "13545     3   3.812201 -0.812201\n",
      "8523     10   9.871159  0.128841\n",
      "...     ...        ...       ...\n",
      "18135     3   4.776372 -1.776372\n",
      "283       3   4.286284 -1.286284\n",
      "14668     7   3.813531  3.186469\n",
      "22168     3   3.788152 -0.788152\n",
      "9292      3   5.671858 -2.671858\n",
      "\n",
      "[6337 rows x 3 columns]\n"
     ]
    },
    {
     "data": {
      "image/png": "[encoded data removed]",
      "text/plain": [
       "<Figure size 640x480 with 1 Axes>"
      ]
     },
     "metadata": {},
     "output_type": "display_data"
    },
    {
     "data": {
      "image/png": "[encoded data removed]",
      "text/plain": [
       "<Figure size 640x480 with 1 Axes>"
      ]
     },
     "metadata": {},
     "output_type": "display_data"
    }
   ],
   "source": [
    "rfr = RandomForestRegressor(n_estimators=300, max_depth=6)\n",
    "model_check(rfr)\n"
   ]
  },
  {
   "cell_type": "code",
   "execution_count": 36,
   "metadata": {},
   "outputs": [
    {
     "name": "stdout",
     "output_type": "stream",
     "text": [
      "0.39621581642348724\n",
      "0.05915402319810947\n",
      "mae\n",
      "2.032322498838304\n",
      "5.294502712978637\n",
      "rmse\n",
      "2.431339985398402\n",
      "6.3258573094009565\n",
      "Result Data Frame\n",
      "       real  predicted      diff\n",
      "11780     3   3.686123 -0.686123\n",
      "1231      4   3.057674  0.942326\n",
      "28633     3   3.133036 -0.133036\n",
      "13545     3   3.987755 -0.987755\n",
      "8523     10   7.906005  2.093995\n",
      "...     ...        ...       ...\n",
      "18135     3   4.206767 -1.206767\n",
      "283       3   4.527153 -1.527153\n",
      "14668     7   3.833296  3.166704\n",
      "22168     3   3.538014 -0.538014\n",
      "9292      3   6.869913 -3.869913\n",
      "\n",
      "[6337 rows x 3 columns]\n"
     ]
    },
    {
     "data": {
      "image/png": "[encoded data removed]",
      "text/plain": [
       "<Figure size 640x480 with 1 Axes>"
      ]
     },
     "metadata": {},
     "output_type": "display_data"
    },
    {
     "data": {
      "image/png": "[encoded data removed]",
      "text/plain": [
       "<Figure size 640x480 with 1 Axes>"
      ]
     },
     "metadata": {},
     "output_type": "display_data"
    }
   ],
   "source": [
    "xgb_r = xgb.XGBRegressor()\n",
    "model_check(xgb_r)"
   ]
  },
  {
   "cell_type": "code",
   "execution_count": 37,
   "metadata": {},
   "outputs": [
    {
     "name": "stdout",
     "output_type": "stream",
     "text": [
      "[LightGBM] [Info] Auto-choosing row-wise multi-threading, the overhead of testing was 0.000150 seconds.\n",
      "You can set `force_row_wise=true` to remove the overhead.\n",
      "And if memory is not enough, you can set `force_col_wise=true`.\n",
      "[LightGBM] [Info] Total Bins 609\n",
      "[LightGBM] [Info] Number of data points in the train set: 25347, number of used features: 3\n",
      "[LightGBM] [Info] Start training from score 4.867164\n",
      "0.24666158040393737\n",
      "0.1706237590791322\n",
      "mae\n",
      "2.1783347977737098\n",
      "5.913973407381131\n",
      "rmse\n",
      "2.3401226961626094\n",
      "5.9393089970242325\n",
      "Result Data Frame\n",
      "       real  predicted      diff\n",
      "11780     3   3.632702 -0.632702\n",
      "1231      4   3.946626  0.053374\n",
      "28633     3   4.234305 -1.234305\n",
      "13545     3   4.700030 -1.700030\n",
      "8523     10   6.174723  3.825277\n",
      "...     ...        ...       ...\n",
      "18135     3   4.938736 -1.938736\n",
      "283       3   4.534527 -1.534527\n",
      "14668     7   4.635266  2.364734\n",
      "22168     3   3.670927 -0.670927\n",
      "9292      3   7.479565 -4.479565\n",
      "\n",
      "[6337 rows x 3 columns]\n"
     ]
    },
    {
     "data": {
      "image/png": "[encoded data removed]",
      "text/plain": [
       "<Figure size 640x480 with 1 Axes>"
      ]
     },
     "metadata": {},
     "output_type": "display_data"
    },
    {
     "data": {
      "image/png": "[encoded data removed]",
      "text/plain": [
       "<Figure size 640x480 with 1 Axes>"
      ]
     },
     "metadata": {},
     "output_type": "display_data"
    }
   ],
   "source": [
    "lgb_r = lgb.LGBMRegressor()\n",
    "model_check(lgb_r)"
   ]
  },
  {
   "cell_type": "code",
   "execution_count": 38,
   "metadata": {},
   "outputs": [
    {
     "name": "stdout",
     "output_type": "stream",
     "text": [
      "0.004661087412047182\n",
      "0.002275981852745801\n",
      "mae\n",
      "2.400145065885215\n",
      "6.797822189629228\n",
      "rmse\n",
      "2.4482635894804523\n",
      "6.514263758571743\n",
      "Result Data Frame\n",
      "       real  predicted      diff\n",
      "11780     3   4.479360 -1.479360\n",
      "1231      4   4.892451 -0.892451\n",
      "28633     3   6.113915 -3.113915\n",
      "13545     3   4.572548 -1.572548\n",
      "8523     10   5.121627  4.878373\n",
      "...     ...        ...       ...\n",
      "18135     3   4.911111 -1.911111\n",
      "283       3   4.571275 -1.571275\n",
      "14668     7   4.525591  2.474409\n",
      "22168     3   4.838584 -1.838584\n",
      "9292      3   4.883585 -1.883585\n",
      "\n",
      "[6337 rows x 3 columns]\n"
     ]
    },
    {
     "data": {
      "image/png": "[encoded data removed]",
      "text/plain": [
       "<Figure size 640x480 with 1 Axes>"
      ]
     },
     "metadata": {},
     "output_type": "display_data"
    },
    {
     "ename": "AttributeError",
     "evalue": "'LinearRegression' object has no attribute 'feature_importances_'",
     "output_type": "error",
     "traceback": [
      "\u001b[0;31m---------------------------------------------------------------------------\u001b[0m",
      "\u001b[0;31mAttributeError\u001b[0m                            Traceback (most recent call last)",
      "Cell \u001b[0;32mIn[38], line 2\u001b[0m\n\u001b[1;32m      1\u001b[0m lr \u001b[38;5;241m=\u001b[39m LinearRegression()\n\u001b[0;32m----> 2\u001b[0m \u001b[43mmodel_check\u001b[49m\u001b[43m(\u001b[49m\u001b[43mlr\u001b[49m\u001b[43m)\u001b[49m\n",
      "Cell \u001b[0;32mIn[30], line 33\u001b[0m, in \u001b[0;36mmodel_check\u001b[0;34m(other)\u001b[0m\n\u001b[1;32m     29\u001b[0m plt\u001b[38;5;241m.\u001b[39mylim(\u001b[38;5;241m0\u001b[39m, \u001b[38;5;241m60\u001b[39m)\n\u001b[1;32m     30\u001b[0m plt\u001b[38;5;241m.\u001b[39mshow()\n\u001b[0;32m---> 33\u001b[0m top20 \u001b[38;5;241m=\u001b[39m pd\u001b[38;5;241m.\u001b[39mSeries(\u001b[43mother\u001b[49m\u001b[38;5;241;43m.\u001b[39;49m\u001b[43mfeature_importances_\u001b[49m, x_train\u001b[38;5;241m.\u001b[39mcolumns)\n\u001b[1;32m     34\u001b[0m top20 \u001b[38;5;241m=\u001b[39m top20\u001b[38;5;241m.\u001b[39msort_values(ascending\u001b[38;5;241m=\u001b[39m\u001b[38;5;28;01mFalse\u001b[39;00m)\n\u001b[1;32m     35\u001b[0m sns\u001b[38;5;241m.\u001b[39mbarplot(x\u001b[38;5;241m=\u001b[39mtop20, y\u001b[38;5;241m=\u001b[39mtop20\u001b[38;5;241m.\u001b[39mindex)\n",
      "\u001b[0;31mAttributeError\u001b[0m: 'LinearRegression' object has no attribute 'feature_importances_'"
     ]
    }
   ],
   "source": [
    "lr = LinearRegression()\n",
    "model_check(lr)"
   ]
  },
  {
   "cell_type": "code",
   "execution_count": 39,
   "metadata": {},
   "outputs": [
    {
     "name": "stderr",
     "output_type": "stream",
     "text": [
      "2024-03-11 23:09:35.015576: I tensorflow/core/platform/cpu_feature_guard.cc:210] This TensorFlow binary is optimized to use available CPU instructions in performance-critical operations.\n",
      "To enable the following instructions: AVX2 FMA, in other operations, rebuild TensorFlow with the appropriate compiler flags.\n"
     ]
    }
   ],
   "source": [
    "import tensorflow as tf"
   ]
  },
  {
   "cell_type": "code",
   "execution_count": null,
   "metadata": {},
   "outputs": [
    {
     "data": {
      "text/plain": [
       "22161    3\n",
       "5136     3\n",
       "25934    3\n",
       "2796     4\n",
       "11875    5\n",
       "        ..\n",
       "14926    3\n",
       "17615    8\n",
       "18270    3\n",
       "21953    3\n",
       "4989     3\n",
       "Name: cnt, Length: 25347, dtype: int64"
      ]
     },
     "execution_count": 47,
     "metadata": {},
     "output_type": "execute_result"
    }
   ],
   "source": [
    "y_train"
   ]
  },
  {
   "cell_type": "code",
   "execution_count": 48,
   "metadata": {},
   "outputs": [
    {
     "data": {
      "text/plain": [
       "31125     3\n",
       "12147    10\n",
       "21568     3\n",
       "11181     3\n",
       "23387     5\n",
       "         ..\n",
       "21559     4\n",
       "16601     4\n",
       "908       3\n",
       "20024     3\n",
       "30750     7\n",
       "Name: cnt, Length: 6337, dtype: int64"
      ]
     },
     "execution_count": 48,
     "metadata": {},
     "output_type": "execute_result"
    }
   ],
   "source": [
    "y_test"
   ]
  },
  {
   "cell_type": "code",
   "execution_count": 49,
   "metadata": {},
   "outputs": [
    {
     "name": "stdout",
     "output_type": "stream",
     "text": [
      "-0.049661374232818245\n",
      "-0.07316521404238752\n",
      "mae\n",
      "1.9179864960234856\n",
      "7.23792246823143\n",
      "rmse\n",
      "1.7660581907905217\n",
      "5.538736204222132\n",
      "Result Data Frame\n",
      "       real  predicted      diff\n",
      "31125     3   3.100258 -0.100258\n",
      "12147    10   3.099767  6.900233\n",
      "21568     3   3.101286 -0.101286\n",
      "11181     3   3.888962 -0.888962\n",
      "23387     5   3.888143  1.111857\n",
      "...     ...        ...       ...\n",
      "21559     4   3.101424  0.898576\n",
      "16601     4   3.100038  0.899962\n",
      "908       3   3.102945 -0.102945\n",
      "20024     3   3.101434 -0.101434\n",
      "30750     7   3.100613  3.899387\n",
      "\n",
      "[6337 rows x 3 columns]\n"
     ]
    },
    {
     "data": {
      "image/png": "[encoded data removed]",
      "text/plain": [
       "<Figure size 640x480 with 1 Axes>"
      ]
     },
     "metadata": {},
     "output_type": "display_data"
    },
    {
     "ename": "AttributeError",
     "evalue": "'SVR' object has no attribute 'feature_importances_'",
     "output_type": "error",
     "traceback": [
      "\u001b[0;31m---------------------------------------------------------------------------\u001b[0m",
      "\u001b[0;31mAttributeError\u001b[0m                            Traceback (most recent call last)",
      "Cell \u001b[0;32mIn[49], line 4\u001b[0m\n\u001b[1;32m      1\u001b[0m \u001b[38;5;28;01mfrom\u001b[39;00m \u001b[38;5;21;01msklearn\u001b[39;00m\u001b[38;5;21;01m.\u001b[39;00m\u001b[38;5;21;01msvm\u001b[39;00m \u001b[38;5;28;01mimport\u001b[39;00m SVR\n\u001b[1;32m      3\u001b[0m svr \u001b[38;5;241m=\u001b[39m SVR()\n\u001b[0;32m----> 4\u001b[0m \u001b[43mmodel_check\u001b[49m\u001b[43m(\u001b[49m\u001b[43msvr\u001b[49m\u001b[43m)\u001b[49m\n",
      "Cell \u001b[0;32mIn[41], line 33\u001b[0m, in \u001b[0;36mmodel_check\u001b[0;34m(other)\u001b[0m\n\u001b[1;32m     29\u001b[0m plt\u001b[38;5;241m.\u001b[39mylim(\u001b[38;5;241m0\u001b[39m, \u001b[38;5;241m60\u001b[39m)\n\u001b[1;32m     30\u001b[0m plt\u001b[38;5;241m.\u001b[39mshow()\n\u001b[0;32m---> 33\u001b[0m top20 \u001b[38;5;241m=\u001b[39m pd\u001b[38;5;241m.\u001b[39mSeries(\u001b[43mother\u001b[49m\u001b[38;5;241;43m.\u001b[39;49m\u001b[43mfeature_importances_\u001b[49m, x_train\u001b[38;5;241m.\u001b[39mcolumns)\n\u001b[1;32m     34\u001b[0m top20 \u001b[38;5;241m=\u001b[39m top20\u001b[38;5;241m.\u001b[39msort_values(ascending\u001b[38;5;241m=\u001b[39m\u001b[38;5;28;01mFalse\u001b[39;00m)\n\u001b[1;32m     35\u001b[0m sns\u001b[38;5;241m.\u001b[39mbarplot(x\u001b[38;5;241m=\u001b[39mtop20, y\u001b[38;5;241m=\u001b[39mtop20\u001b[38;5;241m.\u001b[39mindex)\n",
      "\u001b[0;31mAttributeError\u001b[0m: 'SVR' object has no attribute 'feature_importances_'"
     ]
    }
   ],
   "source": [
    "from sklearn.svm import SVR\n",
    "\n",
    "svr = SVR()\n",
    "model_check(svr)"
   ]
  },
  {
   "cell_type": "code",
   "execution_count": null,
   "metadata": {},
   "outputs": [],
   "source": []
  },
  {
   "cell_type": "code",
   "execution_count": 199,
   "metadata": {},
   "outputs": [
    {
     "data": {
      "text/plain": [
       "(31684, 5)"
      ]
     },
     "execution_count": 199,
     "metadata": {},
     "output_type": "execute_result"
    }
   ],
   "source": [
    "df.shape"
   ]
  },
  {
   "cell_type": "code",
   "execution_count": 206,
   "metadata": {},
   "outputs": [
    {
     "data": {
      "text/html": [
       "<div>\n",
       "<style scoped>\n",
       "    .dataframe tbody tr th:only-of-type {\n",
       "        vertical-align: middle;\n",
       "    }\n",
       "\n",
       "    .dataframe tbody tr th {\n",
       "        vertical-align: top;\n",
       "    }\n",
       "\n",
       "    .dataframe thead th {\n",
       "        text-align: right;\n",
       "    }\n",
       "</style>\n",
       "<table border=\"1\" class=\"dataframe\">\n",
       "  <thead>\n",
       "    <tr style=\"text-align: right;\">\n",
       "      <th></th>\n",
       "      <th>index</th>\n",
       "      <th>start</th>\n",
       "      <th>end</th>\n",
       "      <th>prod</th>\n",
       "      <th>cnt</th>\n",
       "    </tr>\n",
       "  </thead>\n",
       "  <tbody>\n",
       "    <tr>\n",
       "      <th>0</th>\n",
       "      <td>0</td>\n",
       "      <td>5011000595017300</td>\n",
       "      <td>2871000192069300</td>\n",
       "      <td>음반</td>\n",
       "      <td>3</td>\n",
       "    </tr>\n",
       "    <tr>\n",
       "      <th>1</th>\n",
       "      <td>1</td>\n",
       "      <td>4148000690043300</td>\n",
       "      <td>5011000264024400</td>\n",
       "      <td>문화컨텐츠</td>\n",
       "      <td>3</td>\n",
       "    </tr>\n",
       "    <tr>\n",
       "      <th>2</th>\n",
       "      <td>2</td>\n",
       "      <td>5011000078068400</td>\n",
       "      <td>1120000007005400</td>\n",
       "      <td>농산물</td>\n",
       "      <td>3</td>\n",
       "    </tr>\n",
       "    <tr>\n",
       "      <th>3</th>\n",
       "      <td>3</td>\n",
       "      <td>4127100048006400</td>\n",
       "      <td>5011000587019400</td>\n",
       "      <td>기타식품</td>\n",
       "      <td>7</td>\n",
       "    </tr>\n",
       "    <tr>\n",
       "      <th>4</th>\n",
       "      <td>4</td>\n",
       "      <td>5011000078068400</td>\n",
       "      <td>2823700010076300</td>\n",
       "      <td>농산물</td>\n",
       "      <td>3</td>\n",
       "    </tr>\n",
       "    <tr>\n",
       "      <th>...</th>\n",
       "      <td>...</td>\n",
       "      <td>...</td>\n",
       "      <td>...</td>\n",
       "      <td>...</td>\n",
       "      <td>...</td>\n",
       "    </tr>\n",
       "    <tr>\n",
       "      <th>31679</th>\n",
       "      <td>31679</td>\n",
       "      <td>4471000290087200</td>\n",
       "      <td>5011000213073200</td>\n",
       "      <td>스포츠잡화</td>\n",
       "      <td>3</td>\n",
       "    </tr>\n",
       "    <tr>\n",
       "      <th>31680</th>\n",
       "      <td>31680</td>\n",
       "      <td>1129000014045300</td>\n",
       "      <td>5011000319087100</td>\n",
       "      <td>스마트디바이스</td>\n",
       "      <td>4</td>\n",
       "    </tr>\n",
       "    <tr>\n",
       "      <th>31681</th>\n",
       "      <td>31681</td>\n",
       "      <td>1129000014045300</td>\n",
       "      <td>5011000263065200</td>\n",
       "      <td>스마트디바이스</td>\n",
       "      <td>6</td>\n",
       "    </tr>\n",
       "    <tr>\n",
       "      <th>31682</th>\n",
       "      <td>31682</td>\n",
       "      <td>4127300065073100</td>\n",
       "      <td>5011000264061200</td>\n",
       "      <td>지갑</td>\n",
       "      <td>7</td>\n",
       "    </tr>\n",
       "    <tr>\n",
       "      <th>31683</th>\n",
       "      <td>31683</td>\n",
       "      <td>2811000139076100</td>\n",
       "      <td>5011000520070100</td>\n",
       "      <td>세탁용품</td>\n",
       "      <td>4</td>\n",
       "    </tr>\n",
       "  </tbody>\n",
       "</table>\n",
       "<p>31684 rows × 5 columns</p>\n",
       "</div>"
      ],
      "text/plain": [
       "       index             start               end     prod  cnt\n",
       "0          0  5011000595017300  2871000192069300       음반    3\n",
       "1          1  4148000690043300  5011000264024400    문화컨텐츠    3\n",
       "2          2  5011000078068400  1120000007005400      농산물    3\n",
       "3          3  4127100048006400  5011000587019400     기타식품    7\n",
       "4          4  5011000078068400  2823700010076300      농산물    3\n",
       "...      ...               ...               ...      ...  ...\n",
       "31679  31679  4471000290087200  5011000213073200    스포츠잡화    3\n",
       "31680  31680  1129000014045300  5011000319087100  스마트디바이스    4\n",
       "31681  31681  1129000014045300  5011000263065200  스마트디바이스    6\n",
       "31682  31682  4127300065073100  5011000264061200       지갑    7\n",
       "31683  31683  2811000139076100  5011000520070100     세탁용품    4\n",
       "\n",
       "[31684 rows x 5 columns]"
      ]
     },
     "execution_count": 206,
     "metadata": {},
     "output_type": "execute_result"
    }
   ],
   "source": [
    "df"
   ]
  },
  {
   "cell_type": "code",
   "execution_count": 300,
   "metadata": {},
   "outputs": [
    {
     "name": "stdout",
     "output_type": "stream",
     "text": [
      "Epoch 1/10\n",
      "\u001b[1m793/793\u001b[0m \u001b[32m━━━━━━━━━━━━━━━━━━━━\u001b[0m\u001b[37m\u001b[0m \u001b[1m2s\u001b[0m 2ms/step - loss: 59614150262784.0000 - val_loss: 5867014979584.0000\n",
      "Epoch 2/10\n",
      "\u001b[1m793/793\u001b[0m \u001b[32m━━━━━━━━━━━━━━━━━━━━\u001b[0m\u001b[37m\u001b[0m \u001b[1m1s\u001b[0m 824us/step - loss: 5750917693440.0000 - val_loss: 11834552745984.0000\n",
      "Epoch 3/10\n",
      "\u001b[1m793/793\u001b[0m \u001b[32m━━━━━━━━━━━━━━━━━━━━\u001b[0m\u001b[37m\u001b[0m \u001b[1m1s\u001b[0m 800us/step - loss: 6246949715968.0000 - val_loss: 7036990914560.0000\n",
      "Epoch 4/10\n",
      "\u001b[1m793/793\u001b[0m \u001b[32m━━━━━━━━━━━━━━━━━━━━\u001b[0m\u001b[37m\u001b[0m \u001b[1m1s\u001b[0m 795us/step - loss: 4987977990144.0000 - val_loss: 1946814513152.0000\n",
      "Epoch 5/10\n",
      "\u001b[1m793/793\u001b[0m \u001b[32m━━━━━━━━━━━━━━━━━━━━\u001b[0m\u001b[37m\u001b[0m \u001b[1m1s\u001b[0m 1ms/step - loss: 5304209637376.0000 - val_loss: 3130488258560.0000\n",
      "Epoch 6/10\n",
      "\u001b[1m793/793\u001b[0m \u001b[32m━━━━━━━━━━━━━━━━━━━━\u001b[0m\u001b[37m\u001b[0m \u001b[1m1s\u001b[0m 1ms/step - loss: 3721699000320.0000 - val_loss: 7643315306496.0000\n",
      "Epoch 7/10\n",
      "\u001b[1m793/793\u001b[0m \u001b[32m━━━━━━━━━━━━━━━━━━━━\u001b[0m\u001b[37m\u001b[0m \u001b[1m1s\u001b[0m 975us/step - loss: 4642054864896.0000 - val_loss: 4018448367616.0000\n",
      "Epoch 8/10\n",
      "\u001b[1m793/793\u001b[0m \u001b[32m━━━━━━━━━━━━━━━━━━━━\u001b[0m\u001b[37m\u001b[0m \u001b[1m1s\u001b[0m 1ms/step - loss: 3170639544320.0000 - val_loss: 1438466048000.0000\n",
      "Epoch 9/10\n",
      "\u001b[1m793/793\u001b[0m \u001b[32m━━━━━━━━━━━━━━━━━━━━\u001b[0m\u001b[37m\u001b[0m \u001b[1m1s\u001b[0m 892us/step - loss: 4157255712768.0000 - val_loss: 6134388228096.0000\n",
      "Epoch 10/10\n",
      "\u001b[1m793/793\u001b[0m \u001b[32m━━━━━━━━━━━━━━━━━━━━\u001b[0m\u001b[37m\u001b[0m \u001b[1m1s\u001b[0m 923us/step - loss: 3430331973632.0000 - val_loss: 5529034293248.0000\n",
      "\u001b[1m793/793\u001b[0m \u001b[32m━━━━━━━━━━━━━━━━━━━━\u001b[0m\u001b[37m\u001b[0m \u001b[1m1s\u001b[0m 658us/step\n",
      "\u001b[1m199/199\u001b[0m \u001b[32m━━━━━━━━━━━━━━━━━━━━\u001b[0m\u001b[37m\u001b[0m \u001b[1m0s\u001b[0m 635us/step\n",
      "-7.308998733950614e+23\n",
      "-7.219244463054873e+23\n"
     ]
    }
   ],
   "source": [
    "import tensorflow as tf\n",
    "from sklearn.metrics import r2_score\n",
    "\n",
    "\n",
    "\n",
    "# 모델 정의\n",
    "model = tf.keras.Sequential([\n",
    "    tf.keras.layers.Dense(64, activation='relu', input_dim=x_train.shape[1]),\n",
    "    tf.keras.layers.Dense(32, activation='relu'),\n",
    "    tf.keras.layers.Dense(1, activation='linear')\n",
    "])\n",
    "\n",
    "# 모델 컴파일\n",
    "model.compile(loss='mean_absolute_error', optimizer='adam')  \n",
    "\n",
    "model.fit(x_train, y_train, epochs=10, batch_size=32, validation_data=(x_test, y_test))  \n",
    "\n",
    "# 모델 예측\n",
    "y_pred_train = model.predict(x_train)\n",
    "y_pred_test = model.predict(x_test)\n",
    "\n",
    "\n",
    "print(r2_score(y_train, y_pred_train))\n",
    "print(r2_score(y_test, y_pred_test))\n",
    "\n"
   ]
  },
  {
   "cell_type": "code",
   "execution_count": 158,
   "metadata": {},
   "outputs": [
    {
     "name": "stdout",
     "output_type": "stream",
     "text": [
      "-41.063195933094015\n",
      "{'max_depth': 6, 'n_estimators': 400}\n",
      "RandomForestRegressor(max_depth=6, n_estimators=400)\n"
     ]
    }
   ],
   "source": [
    "# param_grid = {\n",
    "#     'n_estimators' : [200,400,600,800],\n",
    "#     'max_depth' : [2,4,6,8,10]\n",
    "# }\n",
    "\n",
    "# grid = GridSearchCV(rfr, param_grid=param_grid, cv=5, scoring='neg_mean_squared_error')\n",
    "\n",
    "# grid.fit(x_train, y_train)\n",
    "\n",
    "# print(grid.best_score_)\n",
    "# print(grid.best_params_)\n",
    "# print(grid.best_estimator_)\n"
   ]
  },
  {
   "cell_type": "code",
   "execution_count": 77,
   "metadata": {},
   "outputs": [
    {
     "name": "stdout",
     "output_type": "stream",
     "text": [
      "-42.39415245014253\n",
      "{'learning_rate': 0.01, 'max_depth': 6, 'n_estimators': 200}\n",
      "XGBRegressor(base_score=None, booster=None, callbacks=None,\n",
      "             colsample_bylevel=None, colsample_bynode=None,\n",
      "             colsample_bytree=None, device=None, early_stopping_rounds=None,\n",
      "             enable_categorical=False, eval_metric=None, feature_types=None,\n",
      "             gamma=None, grow_policy=None, importance_type=None,\n",
      "             interaction_constraints=None, learning_rate=0.01, max_bin=None,\n",
      "             max_cat_threshold=None, max_cat_to_onehot=None,\n",
      "             max_delta_step=None, max_depth=6, max_leaves=None,\n",
      "             min_child_weight=None, missing=nan, monotone_constraints=None,\n",
      "             multi_strategy=None, n_estimators=200, n_jobs=None,\n",
      "             num_parallel_tree=None, random_state=None, ...)\n"
     ]
    }
   ],
   "source": [
    "# param_grid = {\n",
    "#     'n_estimators' : [200,400,600,800],\n",
    "#     'max_depth' : [2,4,6,8,10],\n",
    "#     'learning_rate' : [0.01, 0.02, 0.1, 0.2, 0.3]\n",
    "# }\n",
    "\n",
    "# grid = GridSearchCV(xgb_r, param_grid=param_grid, cv=5, scoring='neg_mean_squared_error')\n",
    "\n",
    "# grid.fit(x_train, y_train)\n",
    "\n",
    "# print(grid.best_score_)\n",
    "# print(grid.best_params_)\n",
    "# print(grid.best_estimator_)"
   ]
  },
  {
   "cell_type": "code",
   "execution_count": null,
   "metadata": {},
   "outputs": [],
   "source": [
    "# param_grid = {\n",
    "#     'n_estimators' : [200,400,600,800],\n",
    "#     'max_depth' : [2,4,6,8,10],\n",
    "#     'learning_rate' : [0.01, 0.02, 0.1, 0.2, 0.3]\n",
    "# }\n",
    "\n",
    "# grid = GridSearchCV(lgb_r, param_grid=param_grid, cv=5, scoring='neg_mean_squared_error')\n",
    "\n",
    "# grid.fit(x_train, y_train)\n",
    "\n",
    "# print(grid.best_score_)\n",
    "# print(grid.best_params_)\n",
    "# print(grid.best_estimator_)"
   ]
  },
  {
   "cell_type": "code",
   "execution_count": null,
   "metadata": {},
   "outputs": [],
   "source": []
  },
  {
   "cell_type": "code",
   "execution_count": 40,
   "metadata": {},
   "outputs": [
    {
     "name": "stdout",
     "output_type": "stream",
     "text": [
      "                            OLS Regression Results                            \n",
      "==============================================================================\n",
      "Dep. Variable:                    cnt   R-squared:                      -0.004\n",
      "Model:                            OLS   Adj. R-squared:                 -0.004\n",
      "Method:                 Least Squares   F-statistic:                    -46.80\n",
      "Date:                Mon, 11 Mar 2024   Prob (F-statistic):               1.00\n",
      "Time:                        23:09:42   Log-Likelihood:                -84652.\n",
      "No. Observations:               25347   AIC:                         1.693e+05\n",
      "Df Residuals:                   25344   BIC:                         1.693e+05\n",
      "Df Model:                           2                                         \n",
      "Covariance Type:            nonrobust                                         \n",
      "==============================================================================\n",
      "                 coef    std err          t      P>|t|      [0.025      0.975]\n",
      "------------------------------------------------------------------------------\n",
      "const       2.255e-05   4.87e-06      4.633      0.000     1.3e-05    3.21e-05\n",
      "start       4.723e-16   2.36e-17     20.047      0.000    4.26e-16    5.18e-16\n",
      "end         5.881e-16   2.67e-17     22.017      0.000    5.36e-16     6.4e-16\n",
      "prod           0.0113      0.002      4.633      0.000       0.007       0.016\n",
      "==============================================================================\n",
      "Omnibus:                    54952.544   Durbin-Watson:                   1.986\n",
      "Prob(Omnibus):                  0.000   Jarque-Bera (JB):        560498243.073\n",
      "Skew:                          19.262   Prob(JB):                         0.00\n",
      "Kurtosis:                     730.480   Cond. No.                     5.02e+16\n",
      "==============================================================================\n",
      "\n",
      "Notes:\n",
      "[1] Standard Errors assume that the covariance matrix of the errors is correctly specified.\n",
      "[2] The condition number is large, 5.02e+16. This might indicate that there are\n",
      "strong multicollinearity or other numerical problems.\n"
     ]
    }
   ],
   "source": [
    "import statsmodels.api as sm\n",
    "\n",
    "# 상수항 추가: OLS 모델에는 상수항(intercept)을 수동으로 추가해야 합니다.\n",
    "# sm.add_constant 함수를 사용하여 x_train에 상수항을 추가합니다.\n",
    "x_train_const = sm.add_constant(x_train)\n",
    "\n",
    "# OLS 모델 생성 및 학습\n",
    "model = sm.OLS(y_train, x_train_const).fit()\n",
    "\n",
    "# 요약 결과 출력\n",
    "print(model.summary())\n"
   ]
  },
  {
   "cell_type": "code",
   "execution_count": 35,
   "metadata": {},
   "outputs": [
    {
     "ename": "NameError",
     "evalue": "name 'xgb_r' is not defined",
     "output_type": "error",
     "traceback": [
      "\u001b[0;31m---------------------------------------------------------------------------\u001b[0m",
      "\u001b[0;31mNameError\u001b[0m                                 Traceback (most recent call last)",
      "Cell \u001b[0;32mIn[35], line 2\u001b[0m\n\u001b[1;32m      1\u001b[0m \u001b[38;5;28;01mimport\u001b[39;00m \u001b[38;5;21;01mshap\u001b[39;00m\n\u001b[0;32m----> 2\u001b[0m explainer \u001b[38;5;241m=\u001b[39m shap\u001b[38;5;241m.\u001b[39mExplainer(\u001b[43mxgb_r\u001b[49m, x_train)\n\u001b[1;32m      3\u001b[0m shap_values \u001b[38;5;241m=\u001b[39m explainer(x_train)\n",
      "\u001b[0;31mNameError\u001b[0m: name 'xgb_r' is not defined"
     ]
    }
   ],
   "source": [
    "# import shap\n",
    "# explainer = shap.Explainer(xgb_r, x_train)\n",
    "# shap_values = explainer(x_train)"
   ]
  },
  {
   "cell_type": "code",
   "execution_count": 1,
   "metadata": {},
   "outputs": [
    {
     "name": "stderr",
     "output_type": "stream",
     "text": [
      "IProgress not found. Please update jupyter and ipywidgets. See https://ipywidgets.readthedocs.io/en/stable/user_install.html\n"
     ]
    },
    {
     "ename": "NameError",
     "evalue": "name 'shap_values' is not defined",
     "output_type": "error",
     "traceback": [
      "\u001b[0;31m---------------------------------------------------------------------------\u001b[0m",
      "\u001b[0;31mNameError\u001b[0m                                 Traceback (most recent call last)",
      "Cell \u001b[0;32mIn[1], line 6\u001b[0m\n\u001b[1;32m      1\u001b[0m \u001b[38;5;28;01mimport\u001b[39;00m \u001b[38;5;21;01mshap\u001b[39;00m\n\u001b[1;32m      3\u001b[0m \u001b[38;5;66;03m# explainer = shap.Explainer(xgb_r, x_test)\u001b[39;00m\n\u001b[1;32m      4\u001b[0m \u001b[38;5;66;03m# shap_values = explainer(x_test)\u001b[39;00m\n\u001b[0;32m----> 6\u001b[0m shap\u001b[38;5;241m.\u001b[39msummary_plot(\u001b[43mshap_values\u001b[49m)\n\u001b[1;32m      7\u001b[0m plt\u001b[38;5;241m.\u001b[39mshow()\n\u001b[1;32m      9\u001b[0m shap\u001b[38;5;241m.\u001b[39mplots\u001b[38;5;241m.\u001b[39mwaterfall(shap_values[\u001b[38;5;241m0\u001b[39m])\n",
      "\u001b[0;31mNameError\u001b[0m: name 'shap_values' is not defined"
     ]
    }
   ],
   "source": [
    "import shap\n",
    "\n",
    "# explainer = shap.Explainer(xgb_r, x_test)\n",
    "# shap_values = explainer(x_test)\n",
    "\n",
    "shap.summary_plot(shap_values)\n",
    "plt.show()\n",
    "\n",
    "shap.plots.waterfall(shap_values[0])\n",
    "plt.show()\n",
    "\n",
    "shap.plots.scatter(shap_values)\n",
    "plt.show()\n",
    "\n",
    "shap.plots.bar(shap_values)\n",
    "plt.show()\n",
    "\n",
    "shap.dependence_plot('start', shap_values.values, x_test)\n",
    "plt.show()\n",
    "\n",
    "shap.initjs()\n",
    "shap.force_plot(explainer.expected_value, shap_values.values, x_test)\n"
   ]
  },
  {
   "cell_type": "code",
   "execution_count": null,
   "metadata": {},
   "outputs": [],
   "source": []
  },
  {
   "cell_type": "code",
   "execution_count": null,
   "metadata": {},
   "outputs": [],
   "source": []
  },
  {
   "cell_type": "code",
   "execution_count": null,
   "metadata": {},
   "outputs": [],
   "source": []
  },
  {
   "cell_type": "code",
   "execution_count": null,
   "metadata": {},
   "outputs": [],
   "source": []
  },
  {
   "cell_type": "code",
   "execution_count": null,
   "metadata": {},
   "outputs": [],
   "source": []
  },
  {
   "cell_type": "code",
   "execution_count": null,
   "metadata": {},
   "outputs": [],
   "source": []
  },
  {
   "cell_type": "code",
   "execution_count": null,
   "metadata": {},
   "outputs": [],
   "source": []
  },
  {
   "cell_type": "code",
   "execution_count": null,
   "metadata": {},
   "outputs": [],
   "source": []
  }
 ],
 "metadata": {
  "kernelspec": {
   "display_name": "Python 3",
   "language": "python",
   "name": "python3"
  },
  "language_info": {
   "codemirror_mode": {
    "name": "ipython",
    "version": 3
   },
   "file_extension": ".py",
   "mimetype": "text/x-python",
   "name": "python",
   "nbconvert_exporter": "python",
   "pygments_lexer": "ipython3",
   "version": "3.12.0"
  }
 },
 "nbformat": 4,
 "nbformat_minor": 2
}
